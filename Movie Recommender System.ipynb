{
 "cells": [
  {
   "cell_type": "code",
   "execution_count": 1,
   "id": "923f8d28",
   "metadata": {
    "scrolled": true
   },
   "outputs": [
    {
     "name": "stderr",
     "output_type": "stream",
     "text": [
      "Installing package into 'C:/Users/MANU/Documents/R/win-library/3.6'\n",
      "(as 'lib' is unspecified)\n"
     ]
    },
    {
     "name": "stdout",
     "output_type": "stream",
     "text": [
      "package 'recommenderlab' successfully unpacked and MD5 sums checked\n",
      "\n",
      "The downloaded binary packages are in\n",
      "\tC:\\Users\\MANU\\AppData\\Local\\Temp\\RtmpiIEztX\\downloaded_packages\n"
     ]
    },
    {
     "name": "stderr",
     "output_type": "stream",
     "text": [
      "Installing package into 'C:/Users/MANU/Documents/R/win-library/3.6'\n",
      "(as 'lib' is unspecified)\n"
     ]
    },
    {
     "name": "stdout",
     "output_type": "stream",
     "text": [
      "package 'ggplot2' successfully unpacked and MD5 sums checked\n",
      "\n",
      "The downloaded binary packages are in\n",
      "\tC:\\Users\\MANU\\AppData\\Local\\Temp\\RtmpiIEztX\\downloaded_packages\n"
     ]
    },
    {
     "name": "stderr",
     "output_type": "stream",
     "text": [
      "Installing package into 'C:/Users/MANU/Documents/R/win-library/3.6'\n",
      "(as 'lib' is unspecified)\n"
     ]
    },
    {
     "name": "stdout",
     "output_type": "stream",
     "text": [
      "package 'data.table' successfully unpacked and MD5 sums checked\n",
      "\n",
      "The downloaded binary packages are in\n",
      "\tC:\\Users\\MANU\\AppData\\Local\\Temp\\RtmpiIEztX\\downloaded_packages\n"
     ]
    },
    {
     "name": "stderr",
     "output_type": "stream",
     "text": [
      "Installing package into 'C:/Users/MANU/Documents/R/win-library/3.6'\n",
      "(as 'lib' is unspecified)\n"
     ]
    },
    {
     "name": "stdout",
     "output_type": "stream",
     "text": [
      "package 'reshape2' successfully unpacked and MD5 sums checked\n",
      "\n",
      "The downloaded binary packages are in\n",
      "\tC:\\Users\\MANU\\AppData\\Local\\Temp\\RtmpiIEztX\\downloaded_packages\n"
     ]
    }
   ],
   "source": [
    "install.packages('recommenderlab')\n",
    "install.packages('ggplot2')\n",
    "install.packages('data.table')\n",
    "install.packages('reshape2')"
   ]
  },
  {
   "cell_type": "code",
   "execution_count": 2,
   "id": "9f397178",
   "metadata": {},
   "outputs": [
    {
     "name": "stderr",
     "output_type": "stream",
     "text": [
      "Warning message:\n",
      "\"package 'recommenderlab' was built under R version 3.6.3\"Loading required package: Matrix\n",
      "Loading required package: arules\n",
      "Warning message:\n",
      "\"package 'arules' was built under R version 3.6.3\"\n",
      "Attaching package: 'arules'\n",
      "\n",
      "The following objects are masked from 'package:base':\n",
      "\n",
      "    abbreviate, write\n",
      "\n",
      "Loading required package: proxy\n",
      "Warning message:\n",
      "\"package 'proxy' was built under R version 3.6.3\"\n",
      "Attaching package: 'proxy'\n",
      "\n",
      "The following object is masked from 'package:Matrix':\n",
      "\n",
      "    as.matrix\n",
      "\n",
      "The following objects are masked from 'package:stats':\n",
      "\n",
      "    as.dist, dist\n",
      "\n",
      "The following object is masked from 'package:base':\n",
      "\n",
      "    as.matrix\n",
      "\n",
      "Loading required package: registry\n",
      "Registered S3 methods overwritten by 'registry':\n",
      "  method               from \n",
      "  print.registry_field proxy\n",
      "  print.registry_entry proxy\n",
      "Warning message:\n",
      "\"package 'ggplot2' was built under R version 3.6.3\"Warning message:\n",
      "\"package 'data.table' was built under R version 3.6.3\"Warning message:\n",
      "\"package 'reshape2' was built under R version 3.6.3\"\n",
      "Attaching package: 'reshape2'\n",
      "\n",
      "The following objects are masked from 'package:data.table':\n",
      "\n",
      "    dcast, melt\n",
      "\n"
     ]
    }
   ],
   "source": [
    "library('recommenderlab')\n",
    "library('ggplot2')\n",
    "library('data.table')\n",
    "library('reshape2')"
   ]
  },
  {
   "cell_type": "code",
   "execution_count": 3,
   "id": "1d712abd",
   "metadata": {},
   "outputs": [
    {
     "name": "stdout",
     "output_type": "stream",
     "text": [
      "'data.frame':\t10329 obs. of  3 variables:\n",
      " $ movieId: int  1 2 3 4 5 6 7 8 9 10 ...\n",
      " $ title  : chr  \"Toy Story (1995)\" \"Jumanji (1995)\" \"Grumpier Old Men (1995)\" \"Waiting to Exhale (1995)\" ...\n",
      " $ genres : chr  \"Adventure|Animation|Children|Comedy|Fantasy\" \"Adventure|Children|Fantasy\" \"Comedy|Romance\" \"Comedy|Drama|Romance\" ...\n"
     ]
    }
   ],
   "source": [
    "movie_data <- read.csv(\"C:/Users/MANU/Desktop/College/Datasets/IMDB Movie dataset/movies.csv\", stringsAsFactors = FALSE)\n",
    "rating_data <- read.csv(\"C:/Users/MANU/Desktop/College/Datasets/IMDB Movie dataset/ratings.csv\")\n",
    "str(movie_data)"
   ]
  },
  {
   "cell_type": "code",
   "execution_count": 4,
   "id": "91df3a2a",
   "metadata": {},
   "outputs": [
    {
     "data": {
      "text/plain": [
       "    movieId          title              genres         \n",
       " Min.   :     1   Length:10329       Length:10329      \n",
       " 1st Qu.:  3240   Class :character   Class :character  \n",
       " Median :  7088   Mode  :character   Mode  :character  \n",
       " Mean   : 31924                                        \n",
       " 3rd Qu.: 59900                                        \n",
       " Max.   :149532                                        "
      ]
     },
     "metadata": {},
     "output_type": "display_data"
    }
   ],
   "source": [
    "summary(movie_data)"
   ]
  },
  {
   "cell_type": "code",
   "execution_count": 5,
   "id": "042f3b1d",
   "metadata": {},
   "outputs": [
    {
     "data": {
      "text/html": [
       "<table>\n",
       "<thead><tr><th scope=col>movieId</th><th scope=col>title</th><th scope=col>genres</th></tr></thead>\n",
       "<tbody>\n",
       "\t<tr><td>1                                          </td><td>Toy Story (1995)                           </td><td>Adventure|Animation|Children|Comedy|Fantasy</td></tr>\n",
       "\t<tr><td>2                                          </td><td>Jumanji (1995)                             </td><td>Adventure|Children|Fantasy                 </td></tr>\n",
       "\t<tr><td>3                                          </td><td>Grumpier Old Men (1995)                    </td><td>Comedy|Romance                             </td></tr>\n",
       "\t<tr><td>4                                          </td><td>Waiting to Exhale (1995)                   </td><td>Comedy|Drama|Romance                       </td></tr>\n",
       "\t<tr><td>5                                          </td><td>Father of the Bride Part II (1995)         </td><td>Comedy                                     </td></tr>\n",
       "\t<tr><td>6                                          </td><td>Heat (1995)                                </td><td>Action|Crime|Thriller                      </td></tr>\n",
       "</tbody>\n",
       "</table>\n"
      ],
      "text/latex": [
       "\\begin{tabular}{r|lll}\n",
       " movieId & title & genres\\\\\n",
       "\\hline\n",
       "\t 1                                                                                   & Toy Story (1995)                                                                    & Adventure\\textbar{}Animation\\textbar{}Children\\textbar{}Comedy\\textbar{}Fantasy\\\\\n",
       "\t 2                                                               & Jumanji (1995)                                                  & Adventure\\textbar{}Children\\textbar{}Fantasy                 \\\\\n",
       "\t 3                                                     & Grumpier Old Men (1995)                               & Comedy\\textbar{}Romance                             \\\\\n",
       "\t 4                                                               & Waiting to Exhale (1995)                                        & Comedy\\textbar{}Drama\\textbar{}Romance                       \\\\\n",
       "\t 5                                           & Father of the Bride Part II (1995)          & Comedy                                     \\\\\n",
       "\t 6                                                               & Heat (1995)                                                     & Action\\textbar{}Crime\\textbar{}Thriller                      \\\\\n",
       "\\end{tabular}\n"
      ],
      "text/markdown": [
       "\n",
       "| movieId | title | genres |\n",
       "|---|---|---|\n",
       "| 1                                           | Toy Story (1995)                            | Adventure|Animation|Children|Comedy|Fantasy |\n",
       "| 2                                           | Jumanji (1995)                              | Adventure|Children|Fantasy                  |\n",
       "| 3                                           | Grumpier Old Men (1995)                     | Comedy|Romance                              |\n",
       "| 4                                           | Waiting to Exhale (1995)                    | Comedy|Drama|Romance                        |\n",
       "| 5                                           | Father of the Bride Part II (1995)          | Comedy                                      |\n",
       "| 6                                           | Heat (1995)                                 | Action|Crime|Thriller                       |\n",
       "\n"
      ],
      "text/plain": [
       "  movieId title                             \n",
       "1 1       Toy Story (1995)                  \n",
       "2 2       Jumanji (1995)                    \n",
       "3 3       Grumpier Old Men (1995)           \n",
       "4 4       Waiting to Exhale (1995)          \n",
       "5 5       Father of the Bride Part II (1995)\n",
       "6 6       Heat (1995)                       \n",
       "  genres                                     \n",
       "1 Adventure|Animation|Children|Comedy|Fantasy\n",
       "2 Adventure|Children|Fantasy                 \n",
       "3 Comedy|Romance                             \n",
       "4 Comedy|Drama|Romance                       \n",
       "5 Comedy                                     \n",
       "6 Action|Crime|Thriller                      "
      ]
     },
     "metadata": {},
     "output_type": "display_data"
    }
   ],
   "source": [
    "head(movie_data)"
   ]
  },
  {
   "cell_type": "code",
   "execution_count": 6,
   "id": "db74cf6c",
   "metadata": {},
   "outputs": [
    {
     "data": {
      "text/plain": [
       "     userId         movieId           rating        timestamp        \n",
       " Min.   :  1.0   Min.   :     1   Min.   :0.500   Min.   :8.286e+08  \n",
       " 1st Qu.:192.0   1st Qu.:  1073   1st Qu.:3.000   1st Qu.:9.711e+08  \n",
       " Median :383.0   Median :  2497   Median :3.500   Median :1.115e+09  \n",
       " Mean   :364.9   Mean   : 13381   Mean   :3.517   Mean   :1.130e+09  \n",
       " 3rd Qu.:557.0   3rd Qu.:  5991   3rd Qu.:4.000   3rd Qu.:1.275e+09  \n",
       " Max.   :668.0   Max.   :149532   Max.   :5.000   Max.   :1.452e+09  "
      ]
     },
     "metadata": {},
     "output_type": "display_data"
    }
   ],
   "source": [
    "summary(rating_data)"
   ]
  },
  {
   "cell_type": "code",
   "execution_count": 7,
   "id": "12c53888",
   "metadata": {},
   "outputs": [
    {
     "data": {
      "text/html": [
       "<table>\n",
       "<thead><tr><th scope=col>userId</th><th scope=col>movieId</th><th scope=col>rating</th><th scope=col>timestamp</th></tr></thead>\n",
       "<tbody>\n",
       "\t<tr><td>1         </td><td> 16       </td><td>4.0       </td><td>1217897793</td></tr>\n",
       "\t<tr><td>1         </td><td> 24       </td><td>1.5       </td><td>1217895807</td></tr>\n",
       "\t<tr><td>1         </td><td> 32       </td><td>4.0       </td><td>1217896246</td></tr>\n",
       "\t<tr><td>1         </td><td> 47       </td><td>4.0       </td><td>1217896556</td></tr>\n",
       "\t<tr><td>1         </td><td> 50       </td><td>4.0       </td><td>1217896523</td></tr>\n",
       "\t<tr><td>1         </td><td>110       </td><td>4.0       </td><td>1217896150</td></tr>\n",
       "</tbody>\n",
       "</table>\n"
      ],
      "text/latex": [
       "\\begin{tabular}{r|llll}\n",
       " userId & movieId & rating & timestamp\\\\\n",
       "\\hline\n",
       "\t 1          &  16        & 4.0        & 1217897793\\\\\n",
       "\t 1          &  24        & 1.5        & 1217895807\\\\\n",
       "\t 1          &  32        & 4.0        & 1217896246\\\\\n",
       "\t 1          &  47        & 4.0        & 1217896556\\\\\n",
       "\t 1          &  50        & 4.0        & 1217896523\\\\\n",
       "\t 1          & 110        & 4.0        & 1217896150\\\\\n",
       "\\end{tabular}\n"
      ],
      "text/markdown": [
       "\n",
       "| userId | movieId | rating | timestamp |\n",
       "|---|---|---|---|\n",
       "| 1          |  16        | 4.0        | 1217897793 |\n",
       "| 1          |  24        | 1.5        | 1217895807 |\n",
       "| 1          |  32        | 4.0        | 1217896246 |\n",
       "| 1          |  47        | 4.0        | 1217896556 |\n",
       "| 1          |  50        | 4.0        | 1217896523 |\n",
       "| 1          | 110        | 4.0        | 1217896150 |\n",
       "\n"
      ],
      "text/plain": [
       "  userId movieId rating timestamp \n",
       "1 1       16     4.0    1217897793\n",
       "2 1       24     1.5    1217895807\n",
       "3 1       32     4.0    1217896246\n",
       "4 1       47     4.0    1217896556\n",
       "5 1       50     4.0    1217896523\n",
       "6 1      110     4.0    1217896150"
      ]
     },
     "metadata": {},
     "output_type": "display_data"
    }
   ],
   "source": [
    "head(rating_data)"
   ]
  },
  {
   "cell_type": "code",
   "execution_count": 8,
   "id": "59519572",
   "metadata": {},
   "outputs": [
    {
     "name": "stdout",
     "output_type": "stream",
     "text": [
      "'data.frame':\t10329 obs. of  18 variables:\n",
      " $ Action     : int  0 0 0 0 0 1 0 0 1 1 ...\n",
      " $ Adventure  : int  1 1 0 0 0 0 0 1 0 1 ...\n",
      " $ Animation  : int  1 0 0 0 0 0 0 0 0 0 ...\n",
      " $ Children   : int  1 1 0 0 0 0 0 1 0 0 ...\n",
      " $ Comedy     : int  1 0 1 1 1 0 1 0 0 0 ...\n",
      " $ Crime      : int  0 0 0 0 0 1 0 0 0 0 ...\n",
      " $ Documentary: int  0 0 0 0 0 0 0 0 0 0 ...\n",
      " $ Drama      : int  0 0 0 1 0 0 0 0 0 0 ...\n",
      " $ Fantasy    : int  1 1 0 0 0 0 0 0 0 0 ...\n",
      " $ Film-Noir  : int  0 0 0 0 0 0 0 0 0 0 ...\n",
      " $ Horror     : int  0 0 0 0 0 0 0 0 0 0 ...\n",
      " $ Musical    : int  0 0 0 0 0 0 0 0 0 0 ...\n",
      " $ Mystery    : int  0 0 0 0 0 0 0 0 0 0 ...\n",
      " $ Romance    : int  0 0 1 1 0 0 1 0 0 0 ...\n",
      " $ Sci-Fi     : int  0 0 0 0 0 0 0 0 0 0 ...\n",
      " $ Thriller   : int  0 0 0 0 0 1 0 0 0 1 ...\n",
      " $ War        : int  0 0 0 0 0 0 0 0 0 0 ...\n",
      " $ Western    : int  0 0 0 0 0 0 0 0 0 0 ...\n"
     ]
    }
   ],
   "source": [
    "# PRE PROCESSING USING ONE HOT ENCODING\n",
    "\n",
    "movie_genre <- as.data.frame(movie_data$genres,stringsAsFactors = FALSE)\n",
    "library(data.table)\n",
    "movie_genre2 <- as.data.frame(tstrsplit(movie_genre[,1],'[|]',type.convert = TRUE), stringsAsFactors = FALSE)\n",
    "colnames(movie_genre2) <- c(1:10)\n",
    "\n",
    "list_genre <- c(\"Action\", \"Adventure\", \"Animation\", \"Children\", \"Comedy\", \"Crime\", \"Documentary\", \"Drama\", \"Fantasy\", \"Film-Noir\", \"Horror\", \"Musical\", \"Mystery\", \"Romance\", \"Sci-Fi\", \"Thriller\", \"War\", \"Western\")\n",
    "genre_mat1 <- matrix(0,10330,18)\n",
    "genre_mat1[1,] <- list_genre\n",
    "colnames(genre_mat1) <- list_genre\n",
    "\n",
    "for (index in 1:nrow(movie_genre2)) {\n",
    "    for (col in 1:ncol(movie_genre2)) {\n",
    "        gen_col = which(genre_mat1[1,] == movie_genre2[index,col])\n",
    "        genre_mat1[index+1, gen_col] <- 1\n",
    "    }\n",
    "}\n",
    "# Removing first row since it was the genre list\n",
    "genre_mat2 <- as.data.frame(genre_mat1[-1,], stringsAsFactors = FALSE)\n",
    "for (col in 1:ncol(genre_mat2)) {\n",
    "    # Convert from char to int\n",
    "    genre_mat2[,col] <- as.integer(genre_mat2[,col])\n",
    "}\n",
    "str(genre_mat2)"
   ]
  },
  {
   "cell_type": "code",
   "execution_count": 9,
   "id": "463010d7",
   "metadata": {},
   "outputs": [
    {
     "data": {
      "text/html": [
       "<table>\n",
       "<thead><tr><th scope=col>movieId</th><th scope=col>title</th><th scope=col>Action</th><th scope=col>Adventure</th><th scope=col>Animation</th><th scope=col>Children</th><th scope=col>Comedy</th><th scope=col>Crime</th><th scope=col>Documentary</th><th scope=col>Drama</th><th scope=col>Fantasy</th><th scope=col>Film-Noir</th><th scope=col>Horror</th><th scope=col>Musical</th><th scope=col>Mystery</th><th scope=col>Romance</th><th scope=col>Sci-Fi</th><th scope=col>Thriller</th><th scope=col>War</th><th scope=col>Western</th></tr></thead>\n",
       "<tbody>\n",
       "\t<tr><td>1                                 </td><td>Toy Story (1995)                  </td><td>0                                 </td><td>1                                 </td><td>1                                 </td><td>1                                 </td><td>1                                 </td><td>0                                 </td><td>0                                 </td><td>0                                 </td><td>1                                 </td><td>0                                 </td><td>0                                 </td><td>0                                 </td><td>0                                 </td><td>0                                 </td><td>0                                 </td><td>0                                 </td><td>0                                 </td><td>0                                 </td></tr>\n",
       "\t<tr><td>2                                 </td><td>Jumanji (1995)                    </td><td>0                                 </td><td>1                                 </td><td>0                                 </td><td>1                                 </td><td>0                                 </td><td>0                                 </td><td>0                                 </td><td>0                                 </td><td>1                                 </td><td>0                                 </td><td>0                                 </td><td>0                                 </td><td>0                                 </td><td>0                                 </td><td>0                                 </td><td>0                                 </td><td>0                                 </td><td>0                                 </td></tr>\n",
       "\t<tr><td>3                                 </td><td>Grumpier Old Men (1995)           </td><td>0                                 </td><td>0                                 </td><td>0                                 </td><td>0                                 </td><td>1                                 </td><td>0                                 </td><td>0                                 </td><td>0                                 </td><td>0                                 </td><td>0                                 </td><td>0                                 </td><td>0                                 </td><td>0                                 </td><td>1                                 </td><td>0                                 </td><td>0                                 </td><td>0                                 </td><td>0                                 </td></tr>\n",
       "\t<tr><td>4                                 </td><td>Waiting to Exhale (1995)          </td><td>0                                 </td><td>0                                 </td><td>0                                 </td><td>0                                 </td><td>1                                 </td><td>0                                 </td><td>0                                 </td><td>1                                 </td><td>0                                 </td><td>0                                 </td><td>0                                 </td><td>0                                 </td><td>0                                 </td><td>1                                 </td><td>0                                 </td><td>0                                 </td><td>0                                 </td><td>0                                 </td></tr>\n",
       "\t<tr><td>5                                 </td><td>Father of the Bride Part II (1995)</td><td>0                                 </td><td>0                                 </td><td>0                                 </td><td>0                                 </td><td>1                                 </td><td>0                                 </td><td>0                                 </td><td>0                                 </td><td>0                                 </td><td>0                                 </td><td>0                                 </td><td>0                                 </td><td>0                                 </td><td>0                                 </td><td>0                                 </td><td>0                                 </td><td>0                                 </td><td>0                                 </td></tr>\n",
       "\t<tr><td>6                                 </td><td>Heat (1995)                       </td><td>1                                 </td><td>0                                 </td><td>0                                 </td><td>0                                 </td><td>0                                 </td><td>1                                 </td><td>0                                 </td><td>0                                 </td><td>0                                 </td><td>0                                 </td><td>0                                 </td><td>0                                 </td><td>0                                 </td><td>0                                 </td><td>0                                 </td><td>1                                 </td><td>0                                 </td><td>0                                 </td></tr>\n",
       "</tbody>\n",
       "</table>\n"
      ],
      "text/latex": [
       "\\begin{tabular}{r|llllllllllllllllllll}\n",
       " movieId & title & Action & Adventure & Animation & Children & Comedy & Crime & Documentary & Drama & Fantasy & Film-Noir & Horror & Musical & Mystery & Romance & Sci-Fi & Thriller & War & Western\\\\\n",
       "\\hline\n",
       "\t 1                                  & Toy Story (1995)                   & 0                                  & 1                                  & 1                                  & 1                                  & 1                                  & 0                                  & 0                                  & 0                                  & 1                                  & 0                                  & 0                                  & 0                                  & 0                                  & 0                                  & 0                                  & 0                                  & 0                                  & 0                                 \\\\\n",
       "\t 2                                  & Jumanji (1995)                     & 0                                  & 1                                  & 0                                  & 1                                  & 0                                  & 0                                  & 0                                  & 0                                  & 1                                  & 0                                  & 0                                  & 0                                  & 0                                  & 0                                  & 0                                  & 0                                  & 0                                  & 0                                 \\\\\n",
       "\t 3                                  & Grumpier Old Men (1995)            & 0                                  & 0                                  & 0                                  & 0                                  & 1                                  & 0                                  & 0                                  & 0                                  & 0                                  & 0                                  & 0                                  & 0                                  & 0                                  & 1                                  & 0                                  & 0                                  & 0                                  & 0                                 \\\\\n",
       "\t 4                                  & Waiting to Exhale (1995)           & 0                                  & 0                                  & 0                                  & 0                                  & 1                                  & 0                                  & 0                                  & 1                                  & 0                                  & 0                                  & 0                                  & 0                                  & 0                                  & 1                                  & 0                                  & 0                                  & 0                                  & 0                                 \\\\\n",
       "\t 5                                  & Father of the Bride Part II (1995) & 0                                  & 0                                  & 0                                  & 0                                  & 1                                  & 0                                  & 0                                  & 0                                  & 0                                  & 0                                  & 0                                  & 0                                  & 0                                  & 0                                  & 0                                  & 0                                  & 0                                  & 0                                 \\\\\n",
       "\t 6                                  & Heat (1995)                        & 1                                  & 0                                  & 0                                  & 0                                  & 0                                  & 1                                  & 0                                  & 0                                  & 0                                  & 0                                  & 0                                  & 0                                  & 0                                  & 0                                  & 0                                  & 1                                  & 0                                  & 0                                 \\\\\n",
       "\\end{tabular}\n"
      ],
      "text/markdown": [
       "\n",
       "| movieId | title | Action | Adventure | Animation | Children | Comedy | Crime | Documentary | Drama | Fantasy | Film-Noir | Horror | Musical | Mystery | Romance | Sci-Fi | Thriller | War | Western |\n",
       "|---|---|---|---|---|---|---|---|---|---|---|---|---|---|---|---|---|---|---|---|\n",
       "| 1                                  | Toy Story (1995)                   | 0                                  | 1                                  | 1                                  | 1                                  | 1                                  | 0                                  | 0                                  | 0                                  | 1                                  | 0                                  | 0                                  | 0                                  | 0                                  | 0                                  | 0                                  | 0                                  | 0                                  | 0                                  |\n",
       "| 2                                  | Jumanji (1995)                     | 0                                  | 1                                  | 0                                  | 1                                  | 0                                  | 0                                  | 0                                  | 0                                  | 1                                  | 0                                  | 0                                  | 0                                  | 0                                  | 0                                  | 0                                  | 0                                  | 0                                  | 0                                  |\n",
       "| 3                                  | Grumpier Old Men (1995)            | 0                                  | 0                                  | 0                                  | 0                                  | 1                                  | 0                                  | 0                                  | 0                                  | 0                                  | 0                                  | 0                                  | 0                                  | 0                                  | 1                                  | 0                                  | 0                                  | 0                                  | 0                                  |\n",
       "| 4                                  | Waiting to Exhale (1995)           | 0                                  | 0                                  | 0                                  | 0                                  | 1                                  | 0                                  | 0                                  | 1                                  | 0                                  | 0                                  | 0                                  | 0                                  | 0                                  | 1                                  | 0                                  | 0                                  | 0                                  | 0                                  |\n",
       "| 5                                  | Father of the Bride Part II (1995) | 0                                  | 0                                  | 0                                  | 0                                  | 1                                  | 0                                  | 0                                  | 0                                  | 0                                  | 0                                  | 0                                  | 0                                  | 0                                  | 0                                  | 0                                  | 0                                  | 0                                  | 0                                  |\n",
       "| 6                                  | Heat (1995)                        | 1                                  | 0                                  | 0                                  | 0                                  | 0                                  | 1                                  | 0                                  | 0                                  | 0                                  | 0                                  | 0                                  | 0                                  | 0                                  | 0                                  | 0                                  | 1                                  | 0                                  | 0                                  |\n",
       "\n"
      ],
      "text/plain": [
       "  movieId title                              Action Adventure Animation\n",
       "1 1       Toy Story (1995)                   0      1         1        \n",
       "2 2       Jumanji (1995)                     0      1         0        \n",
       "3 3       Grumpier Old Men (1995)            0      0         0        \n",
       "4 4       Waiting to Exhale (1995)           0      0         0        \n",
       "5 5       Father of the Bride Part II (1995) 0      0         0        \n",
       "6 6       Heat (1995)                        1      0         0        \n",
       "  Children Comedy Crime Documentary Drama Fantasy Film-Noir Horror Musical\n",
       "1 1        1      0     0           0     1       0         0      0      \n",
       "2 1        0      0     0           0     1       0         0      0      \n",
       "3 0        1      0     0           0     0       0         0      0      \n",
       "4 0        1      0     0           1     0       0         0      0      \n",
       "5 0        1      0     0           0     0       0         0      0      \n",
       "6 0        0      1     0           0     0       0         0      0      \n",
       "  Mystery Romance Sci-Fi Thriller War Western\n",
       "1 0       0       0      0        0   0      \n",
       "2 0       0       0      0        0   0      \n",
       "3 0       1       0      0        0   0      \n",
       "4 0       1       0      0        0   0      \n",
       "5 0       0       0      0        0   0      \n",
       "6 0       0       0      1        0   0      "
      ]
     },
     "metadata": {},
     "output_type": "display_data"
    }
   ],
   "source": [
    "SearchMatrix <- cbind(movie_data[,1:2], genre_mat2[])\n",
    "head(SearchMatrix)"
   ]
  },
  {
   "cell_type": "code",
   "execution_count": 10,
   "id": "147c58da",
   "metadata": {},
   "outputs": [
    {
     "data": {
      "text/plain": [
       "668 x 10325 rating matrix of class 'realRatingMatrix' with 105339 ratings."
      ]
     },
     "metadata": {},
     "output_type": "display_data"
    }
   ],
   "source": [
    "ratingMatrix <- dcast(rating_data, userId~movieId, value.var = \"rating\", na.rm = FALSE)\n",
    "# Remove userIds\n",
    "ratingMatrix <- as.matrix(ratingMatrix[,-1])\n",
    "# Convert rating matrix into a recommenderlab sparse matrix\n",
    "ratingMatrix <- as(ratingMatrix, \"realRatingMatrix\")\n",
    "ratingMatrix"
   ]
  },
  {
   "cell_type": "code",
   "execution_count": 11,
   "id": "23c1e59e",
   "metadata": {},
   "outputs": [
    {
     "data": {
      "text/html": [
       "<ol class=list-inline>\n",
       "\t<li>'HYBRID_realRatingMatrix'</li>\n",
       "\t<li>'ALS_realRatingMatrix'</li>\n",
       "\t<li>'ALS_implicit_realRatingMatrix'</li>\n",
       "\t<li>'IBCF_realRatingMatrix'</li>\n",
       "\t<li>'LIBMF_realRatingMatrix'</li>\n",
       "\t<li>'POPULAR_realRatingMatrix'</li>\n",
       "\t<li>'RANDOM_realRatingMatrix'</li>\n",
       "\t<li>'RERECOMMEND_realRatingMatrix'</li>\n",
       "\t<li>'SVD_realRatingMatrix'</li>\n",
       "\t<li>'SVDF_realRatingMatrix'</li>\n",
       "\t<li>'UBCF_realRatingMatrix'</li>\n",
       "</ol>\n"
      ],
      "text/latex": [
       "\\begin{enumerate*}\n",
       "\\item 'HYBRID\\_realRatingMatrix'\n",
       "\\item 'ALS\\_realRatingMatrix'\n",
       "\\item 'ALS\\_implicit\\_realRatingMatrix'\n",
       "\\item 'IBCF\\_realRatingMatrix'\n",
       "\\item 'LIBMF\\_realRatingMatrix'\n",
       "\\item 'POPULAR\\_realRatingMatrix'\n",
       "\\item 'RANDOM\\_realRatingMatrix'\n",
       "\\item 'RERECOMMEND\\_realRatingMatrix'\n",
       "\\item 'SVD\\_realRatingMatrix'\n",
       "\\item 'SVDF\\_realRatingMatrix'\n",
       "\\item 'UBCF\\_realRatingMatrix'\n",
       "\\end{enumerate*}\n"
      ],
      "text/markdown": [
       "1. 'HYBRID_realRatingMatrix'\n",
       "2. 'ALS_realRatingMatrix'\n",
       "3. 'ALS_implicit_realRatingMatrix'\n",
       "4. 'IBCF_realRatingMatrix'\n",
       "5. 'LIBMF_realRatingMatrix'\n",
       "6. 'POPULAR_realRatingMatrix'\n",
       "7. 'RANDOM_realRatingMatrix'\n",
       "8. 'RERECOMMEND_realRatingMatrix'\n",
       "9. 'SVD_realRatingMatrix'\n",
       "10. 'SVDF_realRatingMatrix'\n",
       "11. 'UBCF_realRatingMatrix'\n",
       "\n",
       "\n"
      ],
      "text/plain": [
       " [1] \"HYBRID_realRatingMatrix\"       \"ALS_realRatingMatrix\"         \n",
       " [3] \"ALS_implicit_realRatingMatrix\" \"IBCF_realRatingMatrix\"        \n",
       " [5] \"LIBMF_realRatingMatrix\"        \"POPULAR_realRatingMatrix\"     \n",
       " [7] \"RANDOM_realRatingMatrix\"       \"RERECOMMEND_realRatingMatrix\" \n",
       " [9] \"SVD_realRatingMatrix\"          \"SVDF_realRatingMatrix\"        \n",
       "[11] \"UBCF_realRatingMatrix\"        "
      ]
     },
     "metadata": {},
     "output_type": "display_data"
    }
   ],
   "source": [
    "recommendation_model <- recommenderRegistry$get_entries(dataType = \"realRatingMatrix\")\n",
    "names(recommendation_model)"
   ]
  },
  {
   "cell_type": "code",
   "execution_count": 12,
   "id": "856fe8d1",
   "metadata": {},
   "outputs": [
    {
     "data": {
      "text/html": [
       "<dl>\n",
       "\t<dt>$HYBRID_realRatingMatrix</dt>\n",
       "\t\t<dd>'Hybrid recommender that aggegates several recommendation strategies using weighted averages.'</dd>\n",
       "\t<dt>$ALS_realRatingMatrix</dt>\n",
       "\t\t<dd>'Recommender for explicit ratings based on latent factors, calculated by alternating least squares algorithm.'</dd>\n",
       "\t<dt>$ALS_implicit_realRatingMatrix</dt>\n",
       "\t\t<dd>'Recommender for implicit data based on latent factors, calculated by alternating least squares algorithm.'</dd>\n",
       "\t<dt>$IBCF_realRatingMatrix</dt>\n",
       "\t\t<dd>'Recommender based on item-based collaborative filtering.'</dd>\n",
       "\t<dt>$LIBMF_realRatingMatrix</dt>\n",
       "\t\t<dd>'Matrix factorization with LIBMF via package recosystem (https://cran.r-project.org/web/packages/recosystem/vignettes/introduction.html).'</dd>\n",
       "\t<dt>$POPULAR_realRatingMatrix</dt>\n",
       "\t\t<dd>'Recommender based on item popularity.'</dd>\n",
       "\t<dt>$RANDOM_realRatingMatrix</dt>\n",
       "\t\t<dd>'Produce random recommendations (real ratings).'</dd>\n",
       "\t<dt>$RERECOMMEND_realRatingMatrix</dt>\n",
       "\t\t<dd>'Re-recommends highly rated items (real ratings).'</dd>\n",
       "\t<dt>$SVD_realRatingMatrix</dt>\n",
       "\t\t<dd>'Recommender based on SVD approximation with column-mean imputation.'</dd>\n",
       "\t<dt>$SVDF_realRatingMatrix</dt>\n",
       "\t\t<dd>'Recommender based on Funk SVD with gradient descend (https://sifter.org/~simon/journal/20061211.html).'</dd>\n",
       "\t<dt>$UBCF_realRatingMatrix</dt>\n",
       "\t\t<dd>'Recommender based on user-based collaborative filtering.'</dd>\n",
       "</dl>\n"
      ],
      "text/latex": [
       "\\begin{description}\n",
       "\\item[\\$HYBRID\\_realRatingMatrix] 'Hybrid recommender that aggegates several recommendation strategies using weighted averages.'\n",
       "\\item[\\$ALS\\_realRatingMatrix] 'Recommender for explicit ratings based on latent factors, calculated by alternating least squares algorithm.'\n",
       "\\item[\\$ALS\\_implicit\\_realRatingMatrix] 'Recommender for implicit data based on latent factors, calculated by alternating least squares algorithm.'\n",
       "\\item[\\$IBCF\\_realRatingMatrix] 'Recommender based on item-based collaborative filtering.'\n",
       "\\item[\\$LIBMF\\_realRatingMatrix] 'Matrix factorization with LIBMF via package recosystem (https://cran.r-project.org/web/packages/recosystem/vignettes/introduction.html).'\n",
       "\\item[\\$POPULAR\\_realRatingMatrix] 'Recommender based on item popularity.'\n",
       "\\item[\\$RANDOM\\_realRatingMatrix] 'Produce random recommendations (real ratings).'\n",
       "\\item[\\$RERECOMMEND\\_realRatingMatrix] 'Re-recommends highly rated items (real ratings).'\n",
       "\\item[\\$SVD\\_realRatingMatrix] 'Recommender based on SVD approximation with column-mean imputation.'\n",
       "\\item[\\$SVDF\\_realRatingMatrix] 'Recommender based on Funk SVD with gradient descend (https://sifter.org/\\textasciitilde{}simon/journal/20061211.html).'\n",
       "\\item[\\$UBCF\\_realRatingMatrix] 'Recommender based on user-based collaborative filtering.'\n",
       "\\end{description}\n"
      ],
      "text/markdown": [
       "$HYBRID_realRatingMatrix\n",
       ":   'Hybrid recommender that aggegates several recommendation strategies using weighted averages.'\n",
       "$ALS_realRatingMatrix\n",
       ":   'Recommender for explicit ratings based on latent factors, calculated by alternating least squares algorithm.'\n",
       "$ALS_implicit_realRatingMatrix\n",
       ":   'Recommender for implicit data based on latent factors, calculated by alternating least squares algorithm.'\n",
       "$IBCF_realRatingMatrix\n",
       ":   'Recommender based on item-based collaborative filtering.'\n",
       "$LIBMF_realRatingMatrix\n",
       ":   'Matrix factorization with LIBMF via package recosystem (https://cran.r-project.org/web/packages/recosystem/vignettes/introduction.html).'\n",
       "$POPULAR_realRatingMatrix\n",
       ":   'Recommender based on item popularity.'\n",
       "$RANDOM_realRatingMatrix\n",
       ":   'Produce random recommendations (real ratings).'\n",
       "$RERECOMMEND_realRatingMatrix\n",
       ":   'Re-recommends highly rated items (real ratings).'\n",
       "$SVD_realRatingMatrix\n",
       ":   'Recommender based on SVD approximation with column-mean imputation.'\n",
       "$SVDF_realRatingMatrix\n",
       ":   'Recommender based on Funk SVD with gradient descend (https://sifter.org/~simon/journal/20061211.html).'\n",
       "$UBCF_realRatingMatrix\n",
       ":   'Recommender based on user-based collaborative filtering.'\n",
       "\n",
       "\n"
      ],
      "text/plain": [
       "$HYBRID_realRatingMatrix\n",
       "[1] \"Hybrid recommender that aggegates several recommendation strategies using weighted averages.\"\n",
       "\n",
       "$ALS_realRatingMatrix\n",
       "[1] \"Recommender for explicit ratings based on latent factors, calculated by alternating least squares algorithm.\"\n",
       "\n",
       "$ALS_implicit_realRatingMatrix\n",
       "[1] \"Recommender for implicit data based on latent factors, calculated by alternating least squares algorithm.\"\n",
       "\n",
       "$IBCF_realRatingMatrix\n",
       "[1] \"Recommender based on item-based collaborative filtering.\"\n",
       "\n",
       "$LIBMF_realRatingMatrix\n",
       "[1] \"Matrix factorization with LIBMF via package recosystem (https://cran.r-project.org/web/packages/recosystem/vignettes/introduction.html).\"\n",
       "\n",
       "$POPULAR_realRatingMatrix\n",
       "[1] \"Recommender based on item popularity.\"\n",
       "\n",
       "$RANDOM_realRatingMatrix\n",
       "[1] \"Produce random recommendations (real ratings).\"\n",
       "\n",
       "$RERECOMMEND_realRatingMatrix\n",
       "[1] \"Re-recommends highly rated items (real ratings).\"\n",
       "\n",
       "$SVD_realRatingMatrix\n",
       "[1] \"Recommender based on SVD approximation with column-mean imputation.\"\n",
       "\n",
       "$SVDF_realRatingMatrix\n",
       "[1] \"Recommender based on Funk SVD with gradient descend (https://sifter.org/~simon/journal/20061211.html).\"\n",
       "\n",
       "$UBCF_realRatingMatrix\n",
       "[1] \"Recommender based on user-based collaborative filtering.\"\n"
      ]
     },
     "metadata": {},
     "output_type": "display_data"
    }
   ],
   "source": [
    "lapply(recommendation_model,\"[[\", \"description\")"
   ]
  },
  {
   "cell_type": "code",
   "execution_count": 13,
   "id": "94948a15",
   "metadata": {},
   "outputs": [
    {
     "data": {
      "text/html": [
       "<dl>\n",
       "\t<dt>$k</dt>\n",
       "\t\t<dd>30</dd>\n",
       "\t<dt>$method</dt>\n",
       "\t\t<dd>'Cosine'</dd>\n",
       "\t<dt>$normalize</dt>\n",
       "\t\t<dd>'center'</dd>\n",
       "\t<dt>$normalize_sim_matrix</dt>\n",
       "\t\t<dd>FALSE</dd>\n",
       "\t<dt>$alpha</dt>\n",
       "\t\t<dd>0.5</dd>\n",
       "\t<dt>$na_as_zero</dt>\n",
       "\t\t<dd>FALSE</dd>\n",
       "</dl>\n"
      ],
      "text/latex": [
       "\\begin{description}\n",
       "\\item[\\$k] 30\n",
       "\\item[\\$method] 'Cosine'\n",
       "\\item[\\$normalize] 'center'\n",
       "\\item[\\$normalize\\_sim\\_matrix] FALSE\n",
       "\\item[\\$alpha] 0.5\n",
       "\\item[\\$na\\_as\\_zero] FALSE\n",
       "\\end{description}\n"
      ],
      "text/markdown": [
       "$k\n",
       ":   30\n",
       "$method\n",
       ":   'Cosine'\n",
       "$normalize\n",
       ":   'center'\n",
       "$normalize_sim_matrix\n",
       ":   FALSE\n",
       "$alpha\n",
       ":   0.5\n",
       "$na_as_zero\n",
       ":   FALSE\n",
       "\n",
       "\n"
      ],
      "text/plain": [
       "$k\n",
       "[1] 30\n",
       "\n",
       "$method\n",
       "[1] \"Cosine\"\n",
       "\n",
       "$normalize\n",
       "[1] \"center\"\n",
       "\n",
       "$normalize_sim_matrix\n",
       "[1] FALSE\n",
       "\n",
       "$alpha\n",
       "[1] 0.5\n",
       "\n",
       "$na_as_zero\n",
       "[1] FALSE\n"
      ]
     },
     "metadata": {},
     "output_type": "display_data"
    }
   ],
   "source": [
    "recommendation_model$IBCF_realRatingMatrix$parameters"
   ]
  },
  {
   "cell_type": "code",
   "execution_count": 14,
   "id": "66a22158",
   "metadata": {},
   "outputs": [
    {
     "data": {
      "text/html": [
       "<table>\n",
       "<thead><tr><th scope=col>1</th><th scope=col>2</th><th scope=col>3</th><th scope=col>4</th></tr></thead>\n",
       "<tbody>\n",
       "\t<tr><td>0.0000000</td><td>0.9760860</td><td>0.9641723</td><td>0.9914398</td></tr>\n",
       "\t<tr><td>0.9760860</td><td>0.0000000</td><td>0.9925732</td><td>0.9374253</td></tr>\n",
       "\t<tr><td>0.9641723</td><td>0.9925732</td><td>0.0000000</td><td>0.9888968</td></tr>\n",
       "\t<tr><td>0.9914398</td><td>0.9374253</td><td>0.9888968</td><td>0.0000000</td></tr>\n",
       "</tbody>\n",
       "</table>\n"
      ],
      "text/latex": [
       "\\begin{tabular}{r|llll}\n",
       " 1 & 2 & 3 & 4\\\\\n",
       "\\hline\n",
       "\t 0.0000000 & 0.9760860 & 0.9641723 & 0.9914398\\\\\n",
       "\t 0.9760860 & 0.0000000 & 0.9925732 & 0.9374253\\\\\n",
       "\t 0.9641723 & 0.9925732 & 0.0000000 & 0.9888968\\\\\n",
       "\t 0.9914398 & 0.9374253 & 0.9888968 & 0.0000000\\\\\n",
       "\\end{tabular}\n"
      ],
      "text/markdown": [
       "\n",
       "| 1 | 2 | 3 | 4 |\n",
       "|---|---|---|---|\n",
       "| 0.0000000 | 0.9760860 | 0.9641723 | 0.9914398 |\n",
       "| 0.9760860 | 0.0000000 | 0.9925732 | 0.9374253 |\n",
       "| 0.9641723 | 0.9925732 | 0.0000000 | 0.9888968 |\n",
       "| 0.9914398 | 0.9374253 | 0.9888968 | 0.0000000 |\n",
       "\n"
      ],
      "text/plain": [
       "  1         2         3         4        \n",
       "1 0.0000000 0.9760860 0.9641723 0.9914398\n",
       "2 0.9760860 0.0000000 0.9925732 0.9374253\n",
       "3 0.9641723 0.9925732 0.0000000 0.9888968\n",
       "4 0.9914398 0.9374253 0.9888968 0.0000000"
      ]
     },
     "metadata": {},
     "output_type": "display_data"
    },
    {
     "data": {
      "image/png": "[encoded data removed]",
      "text/plain": [
       "Plot with title \"User's Similarities\""
      ]
     },
     "metadata": {},
     "output_type": "display_data"
    }
   ],
   "source": [
    "# Finding similar data\n",
    "similarity_mat <- similarity(ratingMatrix[1:4, ], method = \"cosine\", which = \"users\")\n",
    "as.matrix(similarity_mat)\n",
    "\n",
    "image(as.matrix(similarity_mat), main = \"User's Similarities\")"
   ]
  },
  {
   "cell_type": "code",
   "execution_count": 15,
   "id": "b78eebfe",
   "metadata": {},
   "outputs": [
    {
     "data": {
      "text/html": [
       "<table>\n",
       "<thead><tr><th scope=col>1</th><th scope=col>2</th><th scope=col>3</th><th scope=col>4</th></tr></thead>\n",
       "<tbody>\n",
       "\t<tr><td>0.0000000</td><td>0.9669732</td><td>0.9559341</td><td>0.9101276</td></tr>\n",
       "\t<tr><td>0.9669732</td><td>0.0000000</td><td>0.9658757</td><td>0.9412416</td></tr>\n",
       "\t<tr><td>0.9559341</td><td>0.9658757</td><td>0.0000000</td><td>0.9864877</td></tr>\n",
       "\t<tr><td>0.9101276</td><td>0.9412416</td><td>0.9864877</td><td>0.0000000</td></tr>\n",
       "</tbody>\n",
       "</table>\n"
      ],
      "text/latex": [
       "\\begin{tabular}{r|llll}\n",
       " 1 & 2 & 3 & 4\\\\\n",
       "\\hline\n",
       "\t 0.0000000 & 0.9669732 & 0.9559341 & 0.9101276\\\\\n",
       "\t 0.9669732 & 0.0000000 & 0.9658757 & 0.9412416\\\\\n",
       "\t 0.9559341 & 0.9658757 & 0.0000000 & 0.9864877\\\\\n",
       "\t 0.9101276 & 0.9412416 & 0.9864877 & 0.0000000\\\\\n",
       "\\end{tabular}\n"
      ],
      "text/markdown": [
       "\n",
       "| 1 | 2 | 3 | 4 |\n",
       "|---|---|---|---|\n",
       "| 0.0000000 | 0.9669732 | 0.9559341 | 0.9101276 |\n",
       "| 0.9669732 | 0.0000000 | 0.9658757 | 0.9412416 |\n",
       "| 0.9559341 | 0.9658757 | 0.0000000 | 0.9864877 |\n",
       "| 0.9101276 | 0.9412416 | 0.9864877 | 0.0000000 |\n",
       "\n"
      ],
      "text/plain": [
       "  1         2         3         4        \n",
       "1 0.0000000 0.9669732 0.9559341 0.9101276\n",
       "2 0.9669732 0.0000000 0.9658757 0.9412416\n",
       "3 0.9559341 0.9658757 0.0000000 0.9864877\n",
       "4 0.9101276 0.9412416 0.9864877 0.0000000"
      ]
     },
     "metadata": {},
     "output_type": "display_data"
    },
    {
     "data": {
      "image/png": "[encoded data removed]",
      "text/plain": [
       "Plot with title \"Movies similarity\""
      ]
     },
     "metadata": {},
     "output_type": "display_data"
    }
   ],
   "source": [
    "movie_similarity <- similarity(ratingMatrix[, 1:4], method = \"cosine\", which = \"items\")\n",
    "as.matrix(movie_similarity)\n",
    "\n",
    "image(as.matrix(movie_similarity), main = \"Movies similarity\")"
   ]
  },
  {
   "cell_type": "code",
   "execution_count": 16,
   "id": "e62d513a",
   "metadata": {},
   "outputs": [
    {
     "data": {
      "text/html": [
       "<ol class=list-inline>\n",
       "\t<li>0</li>\n",
       "\t<li>5</li>\n",
       "\t<li>4</li>\n",
       "\t<li>3</li>\n",
       "\t<li>4.5</li>\n",
       "\t<li>1.5</li>\n",
       "\t<li>2</li>\n",
       "\t<li>3.5</li>\n",
       "\t<li>1</li>\n",
       "\t<li>2.5</li>\n",
       "\t<li>0.5</li>\n",
       "</ol>\n"
      ],
      "text/latex": [
       "\\begin{enumerate*}\n",
       "\\item 0\n",
       "\\item 5\n",
       "\\item 4\n",
       "\\item 3\n",
       "\\item 4.5\n",
       "\\item 1.5\n",
       "\\item 2\n",
       "\\item 3.5\n",
       "\\item 1\n",
       "\\item 2.5\n",
       "\\item 0.5\n",
       "\\end{enumerate*}\n"
      ],
      "text/markdown": [
       "1. 0\n",
       "2. 5\n",
       "3. 4\n",
       "4. 3\n",
       "5. 4.5\n",
       "6. 1.5\n",
       "7. 2\n",
       "8. 3.5\n",
       "9. 1\n",
       "10. 2.5\n",
       "11. 0.5\n",
       "\n",
       "\n"
      ],
      "text/plain": [
       " [1] 0.0 5.0 4.0 3.0 4.5 1.5 2.0 3.5 1.0 2.5 0.5"
      ]
     },
     "metadata": {},
     "output_type": "display_data"
    }
   ],
   "source": [
    "rating_values <- as.vector(ratingMatrix@data)\n",
    "# Extracting unique ratings\n",
    "unique(rating_values)"
   ]
  },
  {
   "cell_type": "code",
   "execution_count": 17,
   "id": "cf3b2bda",
   "metadata": {},
   "outputs": [
    {
     "data": {
      "text/plain": [
       "rating_values\n",
       "      0     0.5       1     1.5       2     2.5       3     3.5       4     4.5 \n",
       "6791761    1198    3258    1567    7943    5484   21729   12237   28880    8187 \n",
       "      5 \n",
       "  14856 "
      ]
     },
     "metadata": {},
     "output_type": "display_data"
    }
   ],
   "source": [
    "# Creating a count of movie ratings\n",
    "Table_of_Ratings <- table(rating_values)\n",
    "Table_of_Ratings"
   ]
  },
  {
   "cell_type": "code",
   "execution_count": 18,
   "id": "14287ad4",
   "metadata": {},
   "outputs": [
    {
     "data": {
      "text/html": [
       "<table>\n",
       "<thead><tr><th></th><th scope=col>movie</th><th scope=col>views</th><th scope=col>title</th></tr></thead>\n",
       "<tbody>\n",
       "\t<tr><th scope=row>296</th><td>296                                      </td><td>325                                      </td><td>Pulp Fiction (1994)                      </td></tr>\n",
       "\t<tr><th scope=row>356</th><td>356                                      </td><td>311                                      </td><td>Forrest Gump (1994)                      </td></tr>\n",
       "\t<tr><th scope=row>318</th><td>318                                      </td><td>308                                      </td><td>Shawshank Redemption, The (1994)         </td></tr>\n",
       "\t<tr><th scope=row>480</th><td>480                                      </td><td>294                                      </td><td>Jurassic Park (1993)                     </td></tr>\n",
       "\t<tr><th scope=row>593</th><td>593                                      </td><td>290                                      </td><td>Silence of the Lambs, The (1991)         </td></tr>\n",
       "\t<tr><th scope=row>260</th><td>260                                      </td><td>273                                      </td><td>Star Wars: Episode IV - A New Hope (1977)</td></tr>\n",
       "</tbody>\n",
       "</table>\n"
      ],
      "text/latex": [
       "\\begin{tabular}{r|lll}\n",
       "  & movie & views & title\\\\\n",
       "\\hline\n",
       "\t296 & 296                                       & 325                                       & Pulp Fiction (1994)                      \\\\\n",
       "\t356 & 356                                       & 311                                       & Forrest Gump (1994)                      \\\\\n",
       "\t318 & 318                                       & 308                                       & Shawshank Redemption, The (1994)         \\\\\n",
       "\t480 & 480                                       & 294                                       & Jurassic Park (1993)                     \\\\\n",
       "\t593 & 593                                       & 290                                       & Silence of the Lambs, The (1991)         \\\\\n",
       "\t260 & 260                                       & 273                                       & Star Wars: Episode IV - A New Hope (1977)\\\\\n",
       "\\end{tabular}\n"
      ],
      "text/markdown": [
       "\n",
       "| <!--/--> | movie | views | title |\n",
       "|---|---|---|---|\n",
       "| 296 | 296                                       | 325                                       | Pulp Fiction (1994)                       |\n",
       "| 356 | 356                                       | 311                                       | Forrest Gump (1994)                       |\n",
       "| 318 | 318                                       | 308                                       | Shawshank Redemption, The (1994)          |\n",
       "| 480 | 480                                       | 294                                       | Jurassic Park (1993)                      |\n",
       "| 593 | 593                                       | 290                                       | Silence of the Lambs, The (1991)          |\n",
       "| 260 | 260                                       | 273                                       | Star Wars: Episode IV - A New Hope (1977) |\n",
       "\n"
      ],
      "text/plain": [
       "    movie views title                                    \n",
       "296 296   325   Pulp Fiction (1994)                      \n",
       "356 356   311   Forrest Gump (1994)                      \n",
       "318 318   308   Shawshank Redemption, The (1994)         \n",
       "480 480   294   Jurassic Park (1993)                     \n",
       "593 593   290   Silence of the Lambs, The (1991)         \n",
       "260 260   273   Star Wars: Episode IV - A New Hope (1977)"
      ]
     },
     "metadata": {},
     "output_type": "display_data"
    }
   ],
   "source": [
    "# Most Viewed Movies Visualisation\n",
    "\n",
    "library(ggplot2)\n",
    "# Count views for each movie\n",
    "movie_views <- colCounts(ratingMatrix)\n",
    "# Create dataframe of views\n",
    "table_views <- data.frame(movie = names(movie_views), views = movie_views)\n",
    "# Sort by number of views\n",
    "table_views <- table_views[order(table_views$views, decreasing = TRUE), ]\n",
    "table_views$title <- NA\n",
    "for (index in 1:10325) {\n",
    "    table_views[index,3] <- as.character(subset(movie_data, movie_data$movieId == table_views[index,1])$title)\n",
    "}\n",
    "table_views[1:6,]"
   ]
  },
  {
   "cell_type": "code",
   "execution_count": 19,
   "id": "c53bfcfd",
   "metadata": {},
   "outputs": [
    {
     "data": {
      "image/png": "[encoded data removed]",
      "text/plain": [
       "plot without title"
      ]
     },
     "metadata": {},
     "output_type": "display_data"
    }
   ],
   "source": [
    "ggplot(table_views[1:6, ], aes(x = title, y= views)) + geom_bar(stat = \"identity\", fill = 'steelblue') + geom_text(aes(label = views), vjust = -0.3, size = 3.5) + theme(axis.text.x = element_text(angle = 45, hjust = 1)) + ggtitle(\"Total Views of the Top Films\")"
   ]
  },
  {
   "cell_type": "code",
   "execution_count": 20,
   "id": "86b76abc",
   "metadata": {},
   "outputs": [
    {
     "data": {
      "image/png": "[encoded data removed]",
      "text/plain": [
       "plot without title"
      ]
     },
     "metadata": {},
     "output_type": "display_data"
    }
   ],
   "source": [
    "# Heatmap of movie ratings\n",
    "image(ratingMatrix[1:20, 1:25], axes = FALSE, main = \"Heatmap of the first 25 rows and 25 columns\")"
   ]
  },
  {
   "cell_type": "code",
   "execution_count": 21,
   "id": "5cde487e",
   "metadata": {},
   "outputs": [
    {
     "data": {
      "text/plain": [
       "420 x 447 rating matrix of class 'realRatingMatrix' with 38341 ratings."
      ]
     },
     "metadata": {},
     "output_type": "display_data"
    }
   ],
   "source": [
    "movie_ratings <- ratingMatrix[rowCounts(ratingMatrix) > 50, colCounts(ratingMatrix) > 50]\n",
    "movie_ratings"
   ]
  },
  {
   "cell_type": "code",
   "execution_count": 22,
   "id": "7fa73c6b",
   "metadata": {},
   "outputs": [
    {
     "data": {
      "image/png": "[encoded data removed]",
      "text/plain": [
       "plot without title"
      ]
     },
     "metadata": {},
     "output_type": "display_data"
    }
   ],
   "source": [
    "minimum_movies<- quantile(rowCounts(movie_ratings), 0.98)\n",
    "minimum_users <- quantile(colCounts(movie_ratings), 0.98)\n",
    "image(movie_ratings[rowCounts(movie_ratings) > minimum_movies, colCounts(movie_ratings) > minimum_users],\n",
    "main = \"Heatmap of the top users and movies\")"
   ]
  },
  {
   "cell_type": "code",
   "execution_count": 23,
   "id": "6d757a95",
   "metadata": {},
   "outputs": [
    {
     "name": "stderr",
     "output_type": "stream",
     "text": [
      "`stat_bin()` using `bins = 30`. Pick better value with `binwidth`.\n"
     ]
    },
    {
     "data": {
      "image/png": "[encoded data removed]",
      "text/plain": [
       "plot without title"
      ]
     },
     "metadata": {},
     "output_type": "display_data"
    }
   ],
   "source": [
    "average_ratings <- rowMeans(movie_ratings)\n",
    "qplot(average_ratings, fill=I(\"steelblue\"), col=I(\"red\")) + ggtitle(\"Distribution of the average rating per user\")"
   ]
  },
  {
   "cell_type": "code",
   "execution_count": 24,
   "id": "c5264205",
   "metadata": {},
   "outputs": [
    {
     "data": {
      "text/html": [
       "0"
      ],
      "text/latex": [
       "0"
      ],
      "text/markdown": [
       "0"
      ],
      "text/plain": [
       "[1] 0"
      ]
     },
     "metadata": {},
     "output_type": "display_data"
    },
    {
     "data": {
      "image/png": "[encoded data removed]",
      "text/plain": [
       "plot without title"
      ]
     },
     "metadata": {},
     "output_type": "display_data"
    }
   ],
   "source": [
    "normalized_ratings <- normalize(movie_ratings)\n",
    "sum(rowMeans(normalized_ratings) > 0.00001)\n",
    "\n",
    "image(normalized_ratings[rowCounts(normalized_ratings) > minimum_movies, colCounts(normalized_ratings) > minimum_users],\n",
    "main = \"Normalized Ratings of the Top Users\")"
   ]
  },
  {
   "cell_type": "code",
   "execution_count": 25,
   "id": "c2218cc3",
   "metadata": {},
   "outputs": [
    {
     "data": {
      "image/png": "[encoded data removed]",
      "text/plain": [
       "plot without title"
      ]
     },
     "metadata": {},
     "output_type": "display_data"
    }
   ],
   "source": [
    "binary_minimum_movies <- quantile(rowCounts(movie_ratings), 0.95)\n",
    "binary_minimum_users <- quantile(colCounts(movie_ratings), 0.95)\n",
    "#movies_watched <- binarize(movie_ratings, minRating = 1)\n",
    "\n",
    "good_rated_films <- binarize(movie_ratings, minRating = 3)\n",
    "image(good_rated_films[rowCounts(movie_ratings) > binary_minimum_movies, colCounts(movie_ratings) > binary_minimum_users],\n",
    "main = \"Heatmap of the top users and movies\")"
   ]
  },
  {
   "cell_type": "code",
   "execution_count": 26,
   "id": "816547b2",
   "metadata": {},
   "outputs": [],
   "source": [
    "sampled_data<- sample(x = c(TRUE, FALSE),\n",
    "                      size = nrow(movie_ratings),\n",
    "                      replace = TRUE,\n",
    "                      prob = c(0.8, 0.2))\n",
    "training_data <- movie_ratings[sampled_data, ]\n",
    "testing_data <- movie_ratings[!sampled_data, ]"
   ]
  },
  {
   "cell_type": "code",
   "execution_count": 27,
   "id": "ff91f995",
   "metadata": {},
   "outputs": [
    {
     "data": {
      "text/html": [
       "<dl>\n",
       "\t<dt>$k</dt>\n",
       "\t\t<dd>30</dd>\n",
       "\t<dt>$method</dt>\n",
       "\t\t<dd>'Cosine'</dd>\n",
       "\t<dt>$normalize</dt>\n",
       "\t\t<dd>'center'</dd>\n",
       "\t<dt>$normalize_sim_matrix</dt>\n",
       "\t\t<dd>FALSE</dd>\n",
       "\t<dt>$alpha</dt>\n",
       "\t\t<dd>0.5</dd>\n",
       "\t<dt>$na_as_zero</dt>\n",
       "\t\t<dd>FALSE</dd>\n",
       "</dl>\n"
      ],
      "text/latex": [
       "\\begin{description}\n",
       "\\item[\\$k] 30\n",
       "\\item[\\$method] 'Cosine'\n",
       "\\item[\\$normalize] 'center'\n",
       "\\item[\\$normalize\\_sim\\_matrix] FALSE\n",
       "\\item[\\$alpha] 0.5\n",
       "\\item[\\$na\\_as\\_zero] FALSE\n",
       "\\end{description}\n"
      ],
      "text/markdown": [
       "$k\n",
       ":   30\n",
       "$method\n",
       ":   'Cosine'\n",
       "$normalize\n",
       ":   'center'\n",
       "$normalize_sim_matrix\n",
       ":   FALSE\n",
       "$alpha\n",
       ":   0.5\n",
       "$na_as_zero\n",
       ":   FALSE\n",
       "\n",
       "\n"
      ],
      "text/plain": [
       "$k\n",
       "[1] 30\n",
       "\n",
       "$method\n",
       "[1] \"Cosine\"\n",
       "\n",
       "$normalize\n",
       "[1] \"center\"\n",
       "\n",
       "$normalize_sim_matrix\n",
       "[1] FALSE\n",
       "\n",
       "$alpha\n",
       "[1] 0.5\n",
       "\n",
       "$na_as_zero\n",
       "[1] FALSE\n"
      ]
     },
     "metadata": {},
     "output_type": "display_data"
    }
   ],
   "source": [
    "recommendation_system <- recommenderRegistry$get_entries(dataType =\"realRatingMatrix\")\n",
    "recommendation_system$IBCF_realRatingMatrix$parameters"
   ]
  },
  {
   "cell_type": "code",
   "execution_count": 28,
   "id": "be7fb9c4",
   "metadata": {},
   "outputs": [
    {
     "data": {
      "text/plain": [
       "Recommender of type 'IBCF' for 'realRatingMatrix' \n",
       "learned using 329 users."
      ]
     },
     "metadata": {},
     "output_type": "display_data"
    },
    {
     "data": {
      "text/html": [
       "'Recommender'"
      ],
      "text/latex": [
       "'Recommender'"
      ],
      "text/markdown": [
       "'Recommender'"
      ],
      "text/plain": [
       "[1] \"Recommender\"\n",
       "attr(,\"package\")\n",
       "[1] \"recommenderlab\""
      ]
     },
     "metadata": {},
     "output_type": "display_data"
    }
   ],
   "source": [
    "recommen_model <- Recommender(data = training_data,\n",
    "                          method = \"IBCF\",\n",
    "                          parameter = list(k = 30))\n",
    "recommen_model\n",
    "class(recommen_model)"
   ]
  },
  {
   "cell_type": "code",
   "execution_count": 29,
   "id": "cb80c2be",
   "metadata": {},
   "outputs": [
    {
     "data": {
      "text/html": [
       "'dgCMatrix'"
      ],
      "text/latex": [
       "'dgCMatrix'"
      ],
      "text/markdown": [
       "'dgCMatrix'"
      ],
      "text/plain": [
       "[1] \"dgCMatrix\"\n",
       "attr(,\"package\")\n",
       "[1] \"Matrix\""
      ]
     },
     "metadata": {},
     "output_type": "display_data"
    },
    {
     "data": {
      "text/html": [
       "<ol class=list-inline>\n",
       "\t<li>447</li>\n",
       "\t<li>447</li>\n",
       "</ol>\n"
      ],
      "text/latex": [
       "\\begin{enumerate*}\n",
       "\\item 447\n",
       "\\item 447\n",
       "\\end{enumerate*}\n"
      ],
      "text/markdown": [
       "1. 447\n",
       "2. 447\n",
       "\n",
       "\n"
      ],
      "text/plain": [
       "[1] 447 447"
      ]
     },
     "metadata": {},
     "output_type": "display_data"
    },
    {
     "data": {
      "image/png": "[encoded data removed]",
      "text/plain": [
       "plot without title"
      ]
     },
     "metadata": {},
     "output_type": "display_data"
    }
   ],
   "source": [
    "model_info <- getModel(recommen_model)\n",
    "class(model_info$sim)\n",
    "dim(model_info$sim)\n",
    "top_items <- 20\n",
    "image(model_info$sim[1:top_items, 1:top_items],\n",
    "   main = \"Heatmap of the first rows and columns\")"
   ]
  },
  {
   "cell_type": "code",
   "execution_count": 30,
   "id": "ad722cea",
   "metadata": {},
   "outputs": [
    {
     "data": {
      "text/plain": [
       "sum_rows\n",
       " 30 \n",
       "447 "
      ]
     },
     "metadata": {},
     "output_type": "display_data"
    },
    {
     "name": "stderr",
     "output_type": "stream",
     "text": [
      "`stat_bin()` using `bins = 30`. Pick better value with `binwidth`.\n"
     ]
    },
    {
     "data": {
      "image/png": "[encoded data removed]",
      "text/plain": [
       "plot without title"
      ]
     },
     "metadata": {},
     "output_type": "display_data"
    }
   ],
   "source": [
    "sum_rows <- rowSums(model_info$sim > 0)\n",
    "table(sum_rows)\n",
    "\n",
    "sum_cols <- colSums(model_info$sim > 0)\n",
    "qplot(sum_cols, fill=I(\"steelblue\"), col=I(\"red\"))+ ggtitle(\"Distribution of the column count\")"
   ]
  },
  {
   "cell_type": "code",
   "execution_count": 31,
   "id": "49888ed1",
   "metadata": {},
   "outputs": [
    {
     "data": {
      "text/plain": [
       "Recommendations as 'topNList' with n = 10 for 91 users. "
      ]
     },
     "metadata": {},
     "output_type": "display_data"
    }
   ],
   "source": [
    "top_recommendations <- 10 # the number of items to recommend to each user\n",
    "predicted_recommendations <- predict(object = recommen_model,\n",
    "                          newdata = testing_data,\n",
    "                          n = top_recommendations)\n",
    "predicted_recommendations"
   ]
  },
  {
   "cell_type": "code",
   "execution_count": 32,
   "id": "e7fd9a1d",
   "metadata": {},
   "outputs": [
    {
     "data": {
      "text/html": [
       "<ol class=list-inline>\n",
       "\t<li>'Dr. Strangelove or: How I Learned to Stop Worrying and Love the Bomb (1964)'</li>\n",
       "\t<li>'Wallace &amp; Gromit: The Wrong Trousers (1993)'</li>\n",
       "\t<li>'Jumanji (1995)'</li>\n",
       "\t<li>'City Slickers II: The Legend of Curly\\'s Gold (1994)'</li>\n",
       "\t<li>'Clueless (1995)'</li>\n",
       "\t<li>'Species (1995)'</li>\n",
       "\t<li>'Top Gun (1986)'</li>\n",
       "\t<li>'Congo (1995)'</li>\n",
       "\t<li>'Flintstones, The (1994)'</li>\n",
       "\t<li>'Green Mile, The (1999)'</li>\n",
       "</ol>\n"
      ],
      "text/latex": [
       "\\begin{enumerate*}\n",
       "\\item 'Dr. Strangelove or: How I Learned to Stop Worrying and Love the Bomb (1964)'\n",
       "\\item 'Wallace \\& Gromit: The Wrong Trousers (1993)'\n",
       "\\item 'Jumanji (1995)'\n",
       "\\item 'City Slickers II: The Legend of Curly\\textbackslash{}'s Gold (1994)'\n",
       "\\item 'Clueless (1995)'\n",
       "\\item 'Species (1995)'\n",
       "\\item 'Top Gun (1986)'\n",
       "\\item 'Congo (1995)'\n",
       "\\item 'Flintstones, The (1994)'\n",
       "\\item 'Green Mile, The (1999)'\n",
       "\\end{enumerate*}\n"
      ],
      "text/markdown": [
       "1. 'Dr. Strangelove or: How I Learned to Stop Worrying and Love the Bomb (1964)'\n",
       "2. 'Wallace &amp; Gromit: The Wrong Trousers (1993)'\n",
       "3. 'Jumanji (1995)'\n",
       "4. 'City Slickers II: The Legend of Curly\\'s Gold (1994)'\n",
       "5. 'Clueless (1995)'\n",
       "6. 'Species (1995)'\n",
       "7. 'Top Gun (1986)'\n",
       "8. 'Congo (1995)'\n",
       "9. 'Flintstones, The (1994)'\n",
       "10. 'Green Mile, The (1999)'\n",
       "\n",
       "\n"
      ],
      "text/plain": [
       " [1] \"Dr. Strangelove or: How I Learned to Stop Worrying and Love the Bomb (1964)\"\n",
       " [2] \"Wallace & Gromit: The Wrong Trousers (1993)\"                                \n",
       " [3] \"Jumanji (1995)\"                                                             \n",
       " [4] \"City Slickers II: The Legend of Curly's Gold (1994)\"                        \n",
       " [5] \"Clueless (1995)\"                                                            \n",
       " [6] \"Species (1995)\"                                                             \n",
       " [7] \"Top Gun (1986)\"                                                             \n",
       " [8] \"Congo (1995)\"                                                               \n",
       " [9] \"Flintstones, The (1994)\"                                                    \n",
       "[10] \"Green Mile, The (1999)\"                                                     "
      ]
     },
     "metadata": {},
     "output_type": "display_data"
    }
   ],
   "source": [
    "user1 <- predicted_recommendations@items[[1]] # recommendation for the first user\n",
    "movies_user1 <- predicted_recommendations@itemLabels[user1]\n",
    "movies_user2 <- movies_user1\n",
    "for (index in 1:10){\n",
    "  movies_user2[index] <- as.character(subset(movie_data,\n",
    "                                         movie_data$movieId == movies_user1[index])$title)\n",
    "}\n",
    "movies_user2"
   ]
  },
  {
   "cell_type": "code",
   "execution_count": 33,
   "id": "0b0aec6b",
   "metadata": {},
   "outputs": [
    {
     "data": {
      "text/html": [
       "<table>\n",
       "<tbody>\n",
       "\t<tr><td> 750 </td><td> 2542</td><td> 553 </td><td>  34 </td></tr>\n",
       "\t<tr><td>1148 </td><td> 3753</td><td> 236 </td><td>  48 </td></tr>\n",
       "\t<tr><td>   2 </td><td>  520</td><td>2321 </td><td>  70 </td></tr>\n",
       "\t<tr><td> 432 </td><td>49530</td><td>1304 </td><td> 110 </td></tr>\n",
       "\t<tr><td>  39 </td><td> 1625</td><td> 141 </td><td> 112 </td></tr>\n",
       "\t<tr><td> 196 </td><td>54286</td><td>2291 </td><td> 158 </td></tr>\n",
       "\t<tr><td>1101 </td><td> 2023</td><td> 168 </td><td> 593 </td></tr>\n",
       "\t<tr><td> 160 </td><td> 2078</td><td> 953 </td><td>1204 </td></tr>\n",
       "\t<tr><td> 355 </td><td>  590</td><td> 529 </td><td>1275 </td></tr>\n",
       "\t<tr><td>3147 </td><td> 3703</td><td> 485 </td><td>1704 </td></tr>\n",
       "</tbody>\n",
       "</table>\n"
      ],
      "text/latex": [
       "\\begin{tabular}{llll}\n",
       "\t  750  &  2542 &  553  &   34 \\\\\n",
       "\t 1148  &  3753 &  236  &   48 \\\\\n",
       "\t    2  &   520 & 2321  &   70 \\\\\n",
       "\t  432  & 49530 & 1304  &  110 \\\\\n",
       "\t   39  &  1625 &  141  &  112 \\\\\n",
       "\t  196  & 54286 & 2291  &  158 \\\\\n",
       "\t 1101  &  2023 &  168  &  593 \\\\\n",
       "\t  160  &  2078 &  953  & 1204 \\\\\n",
       "\t  355  &   590 &  529  & 1275 \\\\\n",
       "\t 3147  &  3703 &  485  & 1704 \\\\\n",
       "\\end{tabular}\n"
      ],
      "text/markdown": [
       "\n",
       "|  750  |  2542 |  553  |   34  |\n",
       "| 1148  |  3753 |  236  |   48  |\n",
       "|    2  |   520 | 2321  |   70  |\n",
       "|  432  | 49530 | 1304  |  110  |\n",
       "|   39  |  1625 |  141  |  112  |\n",
       "|  196  | 54286 | 2291  |  158  |\n",
       "| 1101  |  2023 |  168  |  593  |\n",
       "|  160  |  2078 |  953  | 1204  |\n",
       "|  355  |   590 |  529  | 1275  |\n",
       "| 3147  |  3703 |  485  | 1704  |\n",
       "\n"
      ],
      "text/plain": [
       "      [,1] [,2]  [,3] [,4]\n",
       " [1,]  750  2542  553   34\n",
       " [2,] 1148  3753  236   48\n",
       " [3,]    2   520 2321   70\n",
       " [4,]  432 49530 1304  110\n",
       " [5,]   39  1625  141  112\n",
       " [6,]  196 54286 2291  158\n",
       " [7,] 1101  2023  168  593\n",
       " [8,]  160  2078  953 1204\n",
       " [9,]  355   590  529 1275\n",
       "[10,] 3147  3703  485 1704"
      ]
     },
     "metadata": {},
     "output_type": "display_data"
    }
   ],
   "source": [
    "recommendation_matrix <- sapply(predicted_recommendations@items,\n",
    "                      function(x){ as.integer(colnames(movie_ratings)[x]) }) # matrix with the recommendations for each user\n",
    "#dim(recc_matrix)\n",
    "recommendation_matrix[,1:4]"
   ]
  },
  {
   "cell_type": "code",
   "execution_count": null,
   "id": "f96bef96",
   "metadata": {},
   "outputs": [],
   "source": []
  }
 ],
 "metadata": {
  "kernelspec": {
   "display_name": "R",
   "language": "R",
   "name": "ir"
  },
  "language_info": {
   "codemirror_mode": "r",
   "file_extension": ".r",
   "mimetype": "text/x-r-source",
   "name": "R",
   "pygments_lexer": "r",
   "version": "3.6.1"
  }
 },
 "nbformat": 4,
 "nbformat_minor": 5
}
